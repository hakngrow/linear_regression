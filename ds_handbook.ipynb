{
 "cells": [
  {
   "cell_type": "markdown",
   "metadata": {},
   "source": [
    "Source: [Python Data Science Handbook](https://jakevdp.github.io/PythonDataScienceHandbook/05.06-linear-regression.html)"
   ]
  },
  {
   "cell_type": "code",
   "execution_count": 1,
   "metadata": {},
   "outputs": [],
   "source": [
    "import numpy as np\n",
    "\n",
    "import matplotlib.pyplot as plt\n",
    "\n",
    "import seaborn as sns\n",
    "\n",
    "%matplotlib inline"
   ]
  },
  {
   "cell_type": "code",
   "execution_count": 2,
   "metadata": {},
   "outputs": [],
   "source": [
    "#sns.set()"
   ]
  },
  {
   "cell_type": "markdown",
   "metadata": {},
   "source": [
    "### 1. Simple Linear Regression\n",
    "\n",
    "A straight-line fit is a model of the form \n",
    "\n",
    "$y=ax+b$\n",
    "\n",
    "where $a$ is known as the slope, and $b$ is known as the intercept."
   ]
  },
  {
   "cell_type": "code",
   "execution_count": 3,
   "metadata": {
    "scrolled": false
   },
   "outputs": [
    {
     "data": {
      "image/png": "[encoded data removed]",
      "text/plain": [
       "<Figure size 432x288 with 1 Axes>"
      ]
     },
     "metadata": {
      "needs_background": "light"
     },
     "output_type": "display_data"
    }
   ],
   "source": [
    "# Instantiate random number generator\n",
    "rng = np.random.RandomState(1903)\n",
    "\n",
    "# Generate straight line model with random component\n",
    "x = 10 * rng.rand(50)\n",
    "y = 2 * x - 5 + rng.randn(50)\n",
    "\n",
    "# Plot x, y values\n",
    "plt.scatter(x, y);"
   ]
  },
  {
   "cell_type": "markdown",
   "metadata": {},
   "source": [
    "Use Scikit-Learn's `LinearRegression` model to construct the best-fit line."
   ]
  },
  {
   "cell_type": "code",
   "execution_count": 4,
   "metadata": {
    "scrolled": true
   },
   "outputs": [
    {
     "data": {
      "image/png": "[encoded data removed]",
      "text/plain": [
       "<Figure size 432x288 with 1 Axes>"
      ]
     },
     "metadata": {
      "needs_background": "light"
     },
     "output_type": "display_data"
    }
   ],
   "source": [
    "from sklearn.linear_model import LinearRegression\n",
    "\n",
    "model = LinearRegression(fit_intercept=True)\n",
    "\n",
    "# Fit model with original dataset of x values and correponding supervised y values\n",
    "model.fit(x[:, np.newaxis], y)\n",
    "\n",
    "# Generate 1000 evenly spaced x values between 0 and 10\n",
    "xfit = np.linspace(0, 10, 1000)\n",
    "\n",
    "# Generate corresponding predicted y values using model\n",
    "yfit = model.predict(xfit[:, np.newaxis])\n",
    "\n",
    "# Plot original dataset\n",
    "plt.scatter(x, y)\n",
    "\n",
    "# Plot predicted value\n",
    "plt.plot(xfit, yfit);"
   ]
  },
  {
   "cell_type": "code",
   "execution_count": 5,
   "metadata": {
    "scrolled": true
   },
   "outputs": [
    {
     "name": "stdout",
     "output_type": "stream",
     "text": [
      "Model slope:     2.0665534690985554\n",
      "Model intercept: -5.322100770425457\n"
     ]
    }
   ],
   "source": [
    "# The model's predictions is in the form of a line, with gradient i.e. slope and an intercept \n",
    "\n",
    "print(\"Model slope:    \", model.coef_[0])\n",
    "print(\"Model intercept:\", model.intercept_)"
   ]
  },
  {
   "cell_type": "markdown",
   "metadata": {},
   "source": [
    "### 2. Multiple Linear Regression\n",
    "\n",
    "The `LinearRegression` model can also handle multi-dimensional linear models with multiple $x$ values (i.e. independent variables) of the form:\n",
    "\n",
    "$y = a_0 + a_1x_1 + a_2x_2 + a_3x_3 + a_4x_4$ ...\n",
    "\n",
    "In a model with 3 different $x$ values (e.g. $y = a_0 + a_1x_1 + a_2x_2 + a_3x_3$), it is similar to fitting a plane to points in a 3 dimensional space.  When the number of $x$ values is more than 3, it becomes fitting a hyper-plane to points in a multi-dimensional space.  In such cases, it is difficult to visualize the multi-dimensional nature of the regression.   "
   ]
  },
  {
   "cell_type": "code",
   "execution_count": 6,
   "metadata": {},
   "outputs": [],
   "source": [
    "# Initiate random number generator\n",
    "rng = np.random.RandomState(1903)\n",
    "\n",
    "# Generates a matrix of 100 rows and 3 columns\n",
    "X = 10 * rng.rand(100, 3)\n",
    "\n",
    "# Compute corresponding y values using matrix multiplication\n",
    "y = 0.5 + np.dot(X, [1.5, -2., 1.])"
   ]
  },
  {
   "cell_type": "code",
   "execution_count": 11,
   "metadata": {},
   "outputs": [
    {
     "name": "stdout",
     "output_type": "stream",
     "text": [
      "0.4999999999999938\n",
      "[ 1.5 -2.   1. ]\n"
     ]
    }
   ],
   "source": [
    "model.fit(X, y)\n",
    "\n",
    "# Derive the coefficients and intercept using the regression model\n",
    "print(model.intercept_)\n",
    "print(model.coef_)"
   ]
  },
  {
   "cell_type": "markdown",
   "metadata": {},
   "source": [
    "### 3. Basis Function Regression\n",
    "\n",
    "Linear regression can be used to model non-linear relationships between variables by transforming the data according to basis functions.  Building on the concept of multiple linear regression (i.e. $y = a_0 + a_1x_1 + a_2x_2 + a_3x_3 + a_4x_4$ ...), we can derive the various $x$ values (i.e. $x_1, x_2, x_3, x_4$...) from a single dimensional $x$ value using\n",
    "functions that transforms the data such that $x_n = f_n(x)$.\n",
    "\n",
    "For example, if the transformational function is $f_n(x) = x^n$, the linear regression becomes polynomial (i.e. $y = a_0 + a_1x + a_2x^2 + a_3x^3 + a_4x^4$...). The transformed model is still linear as the coefficients $a_n$ do not multiply or divide each other.\n",
    "\n",
    "#### 3.1 Polynomial basis function"
   ]
  },
  {
   "cell_type": "code",
   "execution_count": 12,
   "metadata": {},
   "outputs": [
    {
     "data": {
      "text/plain": [
       "array([[ 2.,  4.,  8.],\n",
       "       [ 3.,  9., 27.],\n",
       "       [ 4., 16., 64.]])"
      ]
     },
     "execution_count": 12,
     "metadata": {},
     "output_type": "execute_result"
    }
   ],
   "source": [
    "from sklearn.preprocessing import PolynomialFeatures\n",
    "\n",
    "x = np.array([2, 3, 4])\n",
    "\n",
    "poly = PolynomialFeatures(3, include_bias=False)\n",
    "\n",
    "poly.fit_transform(x[:, None])"
   ]
  }
 ],
 "metadata": {
  "kernelspec": {
   "display_name": "Python 3",
   "language": "python",
   "name": "python3"
  },
  "language_info": {
   "codemirror_mode": {
    "name": "ipython",
    "version": 3
   },
   "file_extension": ".py",
   "mimetype": "text/x-python",
   "name": "python",
   "nbconvert_exporter": "python",
   "pygments_lexer": "ipython3",
   "version": "3.7.4"
  }
 },
 "nbformat": 4,
 "nbformat_minor": 2
}
